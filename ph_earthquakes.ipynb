{
 "cells": [
  {
   "cell_type": "code",
   "execution_count": 1,
   "metadata": {},
   "outputs": [
    {
     "name": "stderr",
     "output_type": "stream",
     "text": [
      "\u001b[32m\u001b[1m   Resolving\u001b[22m\u001b[39m package versions...\n",
      "\u001b[32m\u001b[1m  No Changes\u001b[22m\u001b[39m to `C:\\Users\\JANA\\.julia\\environments\\v1.11\\Project.toml`\n",
      "\u001b[32m\u001b[1m  No Changes\u001b[22m\u001b[39m to `C:\\Users\\JANA\\.julia\\environments\\v1.11\\Manifest.toml`\n"
     ]
    }
   ],
   "source": [
    "using Pkg\n",
    "Pkg.add([\"Genie\", \"HTTP\", \"JSON\", \"CSV\", \"DataFrames\"])"
   ]
  },
  {
   "cell_type": "code",
   "execution_count": 2,
   "metadata": {},
   "outputs": [],
   "source": [
    "using Genie, Genie.Router, Genie.Renderer.Json, HTTP, JSON, CSV, DataFrames"
   ]
  },
  {
   "cell_type": "code",
   "execution_count": 3,
   "metadata": {},
   "outputs": [
    {
     "data": {
      "text/plain": [
       "true"
      ]
     },
     "metadata": {},
     "output_type": "display_data"
    }
   ],
   "source": [
    "Genie.config.server_host = \"0.0.0.0\"\n",
    "Genie.config.server_port = 8000\n",
    "Genie.config.run_as_server = true"
   ]
  },
  {
   "cell_type": "code",
   "execution_count": 4,
   "metadata": {},
   "outputs": [
    {
     "data": {
      "text/plain": [
       "load_earthquake_data (generic function with 1 method)"
      ]
     },
     "metadata": {},
     "output_type": "display_data"
    }
   ],
   "source": [
    "function load_earthquake_data()\n",
    "    file_path = \"phivolcs_earthquake_data.csv\" \n",
    "    data = CSV.File(file_path) |> DataFrame\n",
    "    return data[:, [:Date_Time_PH, :Latitude, :Longitude, :Depth_In_Km, :Magnitude, :Location]]  # Select relevant columns\n",
    "end"
   ]
  },
  {
   "cell_type": "code",
   "execution_count": 5,
   "metadata": {},
   "outputs": [
    {
     "name": "stdout",
     "output_type": "stream",
     "text": [
      "\u001b[1m5×6 DataFrame\u001b[0m\n",
      "\u001b[1m Row \u001b[0m│\u001b[1m Date_Time_PH        \u001b[0m\u001b[1m Latitude \u001b[0m\u001b[1m Longitude \u001b[0m\u001b[1m Depth_In_Km \u001b[0m\u001b[1m Magnitude \u001b[0m\u001b[1m Location                          \u001b[0m\n",
      "     │\u001b[90m String31            \u001b[0m\u001b[90m String7  \u001b[0m\u001b[90m String7   \u001b[0m\u001b[90m String7     \u001b[0m\u001b[90m Float64   \u001b[0m\u001b[90m String                            \u001b[0m\n",
      "─────┼─────────────────────────────────────────────────────────────────────────────────────────────────────\n",
      "   1 │ 2016-01-01 00:40:00  17.34     120.30     023                3.0  015 km N 87° W of San Esteban (I…\n",
      "   2 │ 2016-01-01 05:06:00  14.65     123.12     017                3.3  054 km N 42° E of Paracale (Cama…\n",
      "   3 │ 2016-01-01 13:24:00  09.76     125.46     012                2.4  005 km S 42° W of Surigao City\n",
      "   4 │ 2016-01-01 15:01:00  17.30     120.27     026                2.9  018 km S 81° W of San Esteban (I…\n",
      "   5 │ 2016-01-01 20:27:00  08.89     126.28     024                3.0  004 km S 44° W of Cagwait (Surig…\n"
     ]
    }
   ],
   "source": [
    "df = CSV.File(\"phivolcs_earthquake_data.csv\") |> DataFrame\n",
    "println(first(df, 5))"
   ]
  },
  {
   "cell_type": "code",
   "execution_count": 6,
   "metadata": {},
   "outputs": [
    {
     "data": {
      "text/plain": [
       "[GET] /api/earthquakes => #11 | :get_api_earthquakes"
      ]
     },
     "metadata": {},
     "output_type": "display_data"
    }
   ],
   "source": [
    "route(\"/api/earthquakes\", method = GET) do\n",
    "    data = load_earthquake_data()\n",
    "    JSON.json(collect(eachrow(data)))\n",
    "end"
   ]
  },
  {
   "cell_type": "code",
   "execution_count": 7,
   "metadata": {},
   "outputs": [
    {
     "data": {
      "text/plain": [
       "[GET] / => #13 | :get"
      ]
     },
     "metadata": {},
     "output_type": "display_data"
    }
   ],
   "source": [
    "route(\"/\") do\n",
    "    html = \"\"\"\n",
    "    <!DOCTYPE html>\n",
    "    <html lang=\"en\">\n",
    "    <head>\n",
    "        <meta charset=\"UTF-8\">\n",
    "        <meta name=\"viewport\" content=\"width=device-width, initial-scale=1.0\">\n",
    "        <title>Philippines Earthquake Map</title>\n",
    "        <link rel=\"stylesheet\" href=\"https://unpkg.com/leaflet/dist/leaflet.css\" />\n",
    "        <script src=\"https://code.jquery.com/jquery-3.6.0.min.js\"></script>\n",
    "        <style>\n",
    "            body { font-family: Arial, sans-serif; text-align: center; }\n",
    "            #map { height: 500px; width: 80%; margin: 20px auto; border: 1px solid #ccc; }\n",
    "            #controls { margin-bottom: 10px; padding: 10px; background: #f8f9fa; border-radius: 5px; }\n",
    "            select, button { margin: 5px; padding: 5px; }\n",
    "            button { background: #007bff; color: white; border: none; cursor: pointer; }\n",
    "        </style>\n",
    "    </head>\n",
    "    <body>\n",
    "        <h1>Philippines Earthquake Map</h1>\n",
    "        <div id=\"controls\">\n",
    "            <label for=\"yearFilter\">Year:</label>\n",
    "            <select id=\"yearFilter\"></select>\n",
    "\n",
    "            <label for=\"locationFilter\">Location:</label>\n",
    "            <select id=\"locationFilter\">\n",
    "                <option value=\"\">All Locations</option>\n",
    "            </select>\n",
    "\n",
    "            <button onclick=\"filterEarthquakes()\">Filter</button>\n",
    "        </div>\n",
    "        <div id=\"map\"></div>\n",
    "        \n",
    "        <script src=\"https://unpkg.com/leaflet/dist/leaflet.js\"></script>\n",
    "        <script>\n",
    "            var map = L.map('map').setView([12.8797, 121.7740], 6);\n",
    "            L.tileLayer('https://{s}.tile.openstreetmap.org/{z}/{x}/{y}.png').addTo(map);\n",
    "            var markers = [];\n",
    "\n",
    "            // Populate Year Dropdown\n",
    "            let yearDropdown = document.getElementById(\"yearFilter\");\n",
    "            for (let year = 2016; year <= 2023; year++) {\n",
    "                let option = document.createElement(\"option\");\n",
    "                option.value = year;\n",
    "                option.text = year;\n",
    "                yearDropdown.appendChild(option);\n",
    "            }\n",
    "\n",
    "            // Fetch and Populate Location Dropdown\n",
    "            function loadLocations() {\n",
    "                fetch('/api/locations')\n",
    "                    .then(response => response.json())\n",
    "                    .then(locations => {\n",
    "                        let locationDropdown = document.getElementById('locationFilter');\n",
    "                        locationDropdown.innerHTML = '<option value=\"\">All Locations</option>';\n",
    "                        locations.forEach(location => {\n",
    "                            if (location.trim() !== \"\") { // Avoid empty values\n",
    "                                let option = document.createElement('option');\n",
    "                                option.value = location;\n",
    "                                option.textContent = location;\n",
    "                                locationDropdown.appendChild(option);\n",
    "                            }\n",
    "                        });\n",
    "                    })\n",
    "                    .catch(error => console.error(\"Error fetching locations:\", error));\n",
    "            }\n",
    "\n",
    "            function loadEarthquakes() {\n",
    "                fetch('/api/earthquakes')\n",
    "                    .then(response => response.json())\n",
    "                    .then(data => {\n",
    "                        console.log(\"Fetched Data:\", data);\n",
    "\n",
    "                        markers.forEach(marker => map.removeLayer(marker));\n",
    "                        markers = [];\n",
    "\n",
    "                        let selectedYear = parseInt(document.getElementById('yearFilter').value) || 0;\n",
    "                        let selectedLocation = document.getElementById('locationFilter').value;\n",
    "\n",
    "                        data.forEach(eq => {\n",
    "                            let eqYear = new Date(eq.Date_Time_PH).getFullYear();\n",
    "                            let lat = Number(eq.Latitude);\n",
    "                            let lon = Number(eq.Longitude);\n",
    "                            let mag = Number(eq.Magnitude);\n",
    "                            let depth = Number(eq.Depth_In_Km);\n",
    "                            let loc = String(eq.Location);\n",
    "\n",
    "                            if (!isNaN(lat) && !isNaN(lon) &&\n",
    "                                eqYear === selectedYear &&\n",
    "                                (selectedLocation === \"\" || loc === selectedLocation)) {\n",
    "                                \n",
    "                                let marker = L.marker([lat, lon], {\n",
    "                                    icon: L.icon({\n",
    "                                        iconUrl: 'https://upload.wikimedia.org/wikipedia/commons/e/ec/RedDot.svg',\n",
    "                                        iconSize: [8, 8] \n",
    "                                    })\n",
    "                                })\n",
    "                                .bindPopup(\\`\n",
    "                                    <b>Magnitude:</b> \\${mag}<br>\n",
    "                                    <b>Depth:</b> \\${depth} km<br>\n",
    "                                    <b>Location:</b> \\${loc}\n",
    "                                \\`).addTo(map);\n",
    "                                \n",
    "                                markers.push(marker);\n",
    "                            }\n",
    "                        });\n",
    "                    })\n",
    "                    .catch(error => console.error(\"Error fetching earthquake data:\", error));\n",
    "            }\n",
    "\n",
    "            function filterEarthquakes() {\n",
    "                loadEarthquakes();\n",
    "            }\n",
    "\n",
    "            loadEarthquakes();\n",
    "        </script>\n",
    "    </body>\n",
    "    </html>\n",
    "    \"\"\"\n",
    "    html\n",
    "end"
   ]
  },
  {
   "cell_type": "code",
   "execution_count": null,
   "metadata": {},
   "outputs": [
    {
     "name": "stderr",
     "output_type": "stream",
     "text": [
      "┌ Info: \n",
      "│ Web Server starting at http://0.0.0.0:8000 - press Ctrl/Cmd+C to stop the server. \n",
      "└ @ Genie.Server C:\\Users\\JANA\\.julia\\packages\\Genie\\dFkvA\\src\\Server.jl:182\n",
      "┌ Info: Listening on: 0.0.0.0:8000, thread id: 1\n",
      "└ @ HTTP.Servers C:\\Users\\JANA\\.julia\\packages\\HTTP\\4AUPl\\src\\Servers.jl:382\n",
      "┌ Info: GET / 200\n",
      "└ @ Genie.Router C:\\Users\\JANA\\.julia\\packages\\Genie\\dFkvA\\src\\Router.jl:201\n",
      "┌ Info: GET /api/earthquakes 200\n",
      "└ @ Genie.Router C:\\Users\\JANA\\.julia\\packages\\Genie\\dFkvA\\src\\Router.jl:201\n"
     ]
    }
   ],
   "source": [
    "Genie.up()"
   ]
  }
 ],
 "metadata": {
  "kernelspec": {
   "display_name": "Julia 1.11.4",
   "language": "julia",
   "name": "julia-1.11"
  },
  "language_info": {
   "file_extension": ".jl",
   "mimetype": "application/julia",
   "name": "julia",
   "version": "1.11.4"
  }
 },
 "nbformat": 4,
 "nbformat_minor": 2
}
